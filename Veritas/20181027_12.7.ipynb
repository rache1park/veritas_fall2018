{
 "cells": [
  {
   "cell_type": "code",
   "execution_count": 22,
   "metadata": {},
   "outputs": [
    {
     "name": "stdout",
     "output_type": "stream",
     "text": [
      "Enter: hello\n",
      "['h', 'e', 'l', 'l', 'o']\n",
      "{'e': 1}\n",
      "{'h': 1}\n",
      "{'l': 2}\n",
      "{'l': 2}\n",
      "{'o': 1}\n",
      "['h', 'e', 'l', 'l', 'o']\n",
      "{'e': 1}\n",
      "{'h': 1}\n",
      "{'l': 2}\n",
      "{'l': 2}\n",
      "{'o': 1}\n"
     ]
    }
   ],
   "source": [
    "string=input(\"Enter: \")\n",
    "alphabet='abcdefghijklmnopqrstuvwxyz'\n",
    "a=list(string)\n",
    "print(a)\n",
    "c=0\n",
    "d={}\n",
    "for i in sorted(a):\n",
    "    d={i:a.count(i)}\n",
    "    print(d)"
   ]
  },
  {
   "cell_type": "code",
   "execution_count": 69,
   "metadata": {
    "scrolled": false
   },
   "outputs": [
    {
     "name": "stdout",
     "output_type": "stream",
     "text": [
      "type a sentence: hello\n",
      "['avast']\n",
      "['avast']\n"
     ]
    }
   ],
   "source": [
    "a=input(\"type a sentence: \")\n",
    "p=open(\"Eng2Pir.txt\",\"r\")\n",
    "sentence=[]\n",
    "for aline in p:\n",
    "    values=aline.split()\n",
    "    for i in values:\n",
    "        if i in a:\n",
    "            sentence.append(values[1])\n",
    "print(sentence)\n",
    "p.close()            \n",
    "    "
   ]
  },
  {
   "cell_type": "code",
   "execution_count": null,
   "metadata": {},
   "outputs": [],
   "source": []
  },
  {
   "cell_type": "code",
   "execution_count": null,
   "metadata": {},
   "outputs": [],
   "source": []
  }
 ],
 "metadata": {
  "kernelspec": {
   "display_name": "Python 3",
   "language": "python",
   "name": "python3"
  },
  "language_info": {
   "codemirror_mode": {
    "name": "ipython",
    "version": 3
   },
   "file_extension": ".py",
   "mimetype": "text/x-python",
   "name": "python",
   "nbconvert_exporter": "python",
   "pygments_lexer": "ipython3",
   "version": "3.6.5"
  }
 },
 "nbformat": 4,
 "nbformat_minor": 2
}
