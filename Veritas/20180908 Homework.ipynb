{
 "cells": [
  {
   "cell_type": "markdown",
   "metadata": {},
   "source": [
    "# 1.17 Programming Excersizes\n",
    "## Problem 3, 4, 5."
   ]
  },
  {
   "cell_type": "code",
   "execution_count": 37,
   "metadata": {
    "scrolled": true
   },
   "outputs": [
    {
     "name": "stdout",
     "output_type": "stream",
     "text": [
      "5/6\n",
      "1/6\n",
      "-1/6\n",
      "2/3\n"
     ]
    },
    {
     "data": {
      "text/plain": [
       "False"
      ]
     },
     "execution_count": 37,
     "metadata": {},
     "output_type": "execute_result"
    }
   ],
   "source": [
    "class Fraction:\n",
    "    def __init__(self,top,bottom):\n",
    "        self.top=top\n",
    "        self.den=bottom\n",
    "        try:\n",
    "            int(self.top)==True\n",
    "            int(self.den)==True\n",
    "        except:\n",
    "            print(self.top,\",\", self.den, \" must be integers\")\n",
    "            \n",
    "    def show(self):\n",
    "        print(self.top,\"/\",self.den)\n",
    "        \n",
    "    def __str__(self):\n",
    "        return str(self.top)+\"/\"+str(self.den)\n",
    "    \n",
    "    def __add__(self, other):\n",
    "        newtop = self.top*other.den + self.den*other.top\n",
    "        newden = self.den * other.den\n",
    "        print(Fraction(newtop,newden))\n",
    "        \n",
    "    def __sub__(self,other):\n",
    "        newtop = self.top*other.den - self.den*other.top\n",
    "        newden = self.den * other.den\n",
    "        print(Fraction(newtop,newden)) \n",
    "        \n",
    "    def __mul__(self,other):\n",
    "        newtop= self.top*other.top\n",
    "        newden= self.den*other.den\n",
    "        print(Fraction(newtop,newden))\n",
    "        \n",
    "    def __trueden__(self,other):\n",
    "        newtop= self.top*other.den\n",
    "        newden=self.den*other.top\n",
    "        print(Fraction(newtop,newden))\n",
    "        \n",
    "    def __eq__(self, other):\n",
    "        firstnum = self.top * other.den\n",
    "        secondnum = other.top * self.den\n",
    "        return firstnum == secondnum\n",
    "    \n",
    "    def __ne__(self, other):\n",
    "        firstnum = self.top * other.den\n",
    "        secondnum = other.top * self.den\n",
    "        return firstnum != secondnum \n",
    "    \n",
    "    def __gt__(self, other):\n",
    "        firstnum = self.top * other.den\n",
    "        secondnum = other.top * self.den\n",
    "        return firstnum > secondnum\n",
    "    \n",
    "    def __ge__(self,other):\n",
    "        firstnum = self.top * other.den\n",
    "        secondnum = other.top * self.den\n",
    "        return firstnum >= secondnum\n",
    "    \n",
    "    def __lt__(self,other):\n",
    "        firstnum = self.top * other.den\n",
    "        secondnum = other.top * self.den\n",
    "        return firstnum < secondnum\n",
    "    \n",
    "    def __le__(self, other):\n",
    "        firstnum = self.top * other.den\n",
    "        secondnum = other.top * self.den\n",
    "        return firstnum <= secondnum\n",
    "    \n",
    "    def getNum(self):\n",
    "        return self.top\n",
    "    \n",
    "    def getDen(self):\n",
    "        return self.den\n",
    "    \n",
    "    def simplify(self):\n",
    "        a=[]\n",
    "        b=[]\n",
    "        c=[]\n",
    "        for i in range(1,self.top+1):\n",
    "            if self.top%i==0:\n",
    "                a.append(i)\n",
    "                #print(a)\n",
    "        for i in range(1,self.den+1):\n",
    "            if self.den%i==0:\n",
    "                b.append(i)\n",
    "                #print(b)\n",
    "        for i in a:\n",
    "            if i in b:\n",
    "                c.append(i)\n",
    "        newnum= self.top/c[-1]\n",
    "        newden=self.den/c[-1]\n",
    "        print(Fraction(newnum,newden))\n",
    "a1=Fraction(1,3)\n",
    "b1=Fraction(1,2)\n",
    "a1.__add__(b1)\n",
    "a1.__mul__(b1)\n",
    "a1.__sub__(b1)\n",
    "a1.__trueden__(b1)\n",
    "a1.__ge__(b1)"
   ]
  },
  {
   "cell_type": "code",
   "execution_count": null,
   "metadata": {},
   "outputs": [],
   "source": []
  }
 ],
 "metadata": {
  "kernelspec": {
   "display_name": "Python 3",
   "language": "python",
   "name": "python3"
  },
  "language_info": {
   "codemirror_mode": {
    "name": "ipython",
    "version": 3
   },
   "file_extension": ".py",
   "mimetype": "text/x-python",
   "name": "python",
   "nbconvert_exporter": "python",
   "pygments_lexer": "ipython3",
   "version": "3.6.5"
  }
 },
 "nbformat": 4,
 "nbformat_minor": 2
}
