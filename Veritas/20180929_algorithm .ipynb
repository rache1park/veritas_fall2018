{
 "cells": [
  {
   "cell_type": "markdown",
   "metadata": {},
   "source": [
    "# Chapter 2\n",
    "## 2.2 "
   ]
  },
  {
   "cell_type": "code",
   "execution_count": 1,
   "metadata": {},
   "outputs": [],
   "source": [
    "import time"
   ]
  },
  {
   "cell_type": "code",
   "execution_count": 13,
   "metadata": {},
   "outputs": [],
   "source": [
    "def sumOfN(n):\n",
    "    start=time.time()\n",
    "    theSum=0\n",
    "    for i in range(1, n+1):\n",
    "        theSum=theSum+i\n",
    "    end=time.time()\n",
    "    return theSum,end-start"
   ]
  },
  {
   "cell_type": "code",
   "execution_count": 14,
   "metadata": {},
   "outputs": [
    {
     "name": "stdout",
     "output_type": "stream",
     "text": [
      "Sum is 50005000 required  0.0009832 seconds\n",
      "Sum is 50005000 required  0.0009551 seconds\n",
      "Sum is 50005000 required  0.0007899 seconds\n",
      "Sum is 50005000 required  0.0007319 seconds\n",
      "Sum is 50005000 required  0.0007970 seconds\n"
     ]
    }
   ],
   "source": [
    "for i in range(5):\n",
    "    print(\"Sum is %d required %10.7f seconds\"%sumOfN(10000))"
   ]
  },
  {
   "cell_type": "code",
   "execution_count": 15,
   "metadata": {},
   "outputs": [
    {
     "name": "stdout",
     "output_type": "stream",
     "text": [
      "Sum is 5000050000 required  0.0109038 seconds\n",
      "Sum is 5000050000 required  0.0094957 seconds\n",
      "Sum is 5000050000 required  0.0091259 seconds\n",
      "Sum is 5000050000 required  0.0090230 seconds\n",
      "Sum is 5000050000 required  0.0073962 seconds\n"
     ]
    }
   ],
   "source": [
    "for i in range(5):\n",
    "    print(\"Sum is %d required %10.7f seconds\"%sumOfN(100000))"
   ]
  },
  {
   "cell_type": "code",
   "execution_count": 16,
   "metadata": {},
   "outputs": [],
   "source": [
    "def sumOfN3(n):\n",
    "    start= time.time()\n",
    "    result= (n*(n+1)/2)\n",
    "    end = time.time()\n",
    "    return result,end-start"
   ]
  },
  {
   "cell_type": "code",
   "execution_count": 19,
   "metadata": {},
   "outputs": [
    {
     "name": "stdout",
     "output_type": "stream",
     "text": [
      "Sum is 50005000 required  0.0000021 seconds\n",
      "Sum is 50005000 required  0.0000012 seconds\n",
      "Sum is 50005000 required  0.0000010 seconds\n",
      "Sum is 50005000 required  0.0000012 seconds\n",
      "Sum is 50005000 required  0.0000010 seconds\n"
     ]
    }
   ],
   "source": [
    "for i in range(5):\n",
    "    print(\"Sum is %d required %10.7f seconds\"%sumOfN3(10000))"
   ]
  },
  {
   "cell_type": "code",
   "execution_count": 20,
   "metadata": {},
   "outputs": [
    {
     "name": "stdout",
     "output_type": "stream",
     "text": [
      "Sum is 50005000 required  0.0000029 seconds\n",
      "Sum is 500000500000 required  0.0000019 seconds\n",
      "Sum is 50000005000000 required  0.0000010 seconds\n",
      "Sum is 5000000050000000 required  0.0000038 seconds\n"
     ]
    }
   ],
   "source": [
    "for i in [10000,1000000,10000000,100000000]:\n",
    "    print(\"Sum is %d required %10.7f seconds\"%sumOfN3(i))"
   ]
  },
  {
   "cell_type": "code",
   "execution_count": 4,
   "metadata": {},
   "outputs": [],
   "source": [
    "name='kim'\n",
    "age=10\n",
    "bmi=31.2"
   ]
  },
  {
   "cell_type": "code",
   "execution_count": 81,
   "metadata": {},
   "outputs": [
    {
     "name": "stdout",
     "output_type": "stream",
     "text": [
      "Her name is kim and her age is 10 and bmi is 31.20\n"
     ]
    }
   ],
   "source": [
    "print(\"Her name is %s and her age is %d and bmi is %5.2f\" % (name, age, bmi))"
   ]
  },
  {
   "cell_type": "markdown",
   "metadata": {},
   "source": [
    "## 2.4"
   ]
  },
  {
   "cell_type": "code",
   "execution_count": 116,
   "metadata": {},
   "outputs": [
    {
     "name": "stdout",
     "output_type": "stream",
     "text": [
      "False\n"
     ]
    }
   ],
   "source": [
    "def anagram(str1,str2):  \n",
    "    result=0\n",
    "    for i in str1:\n",
    "        for n in str2:\n",
    "            if i==n:\n",
    "                result=len(str1)==len(str2)\n",
    "    print(result)\n",
    "            \n",
    "anagram(\"eart\",\"earth\")"
   ]
  },
  {
   "cell_type": "code",
   "execution_count": 117,
   "metadata": {},
   "outputs": [],
   "source": [
    "s1=\"ndksfasdjfklj\"\n",
    "s2=\"jfkdsjfkla\""
   ]
  },
  {
   "cell_type": "code",
   "execution_count": 119,
   "metadata": {},
   "outputs": [
    {
     "data": {
      "text/plain": [
       "['n', 'd', 'k', 's', 'f', 'a', 's', 'd', 'j', 'f', 'k', 'l', 'j']"
      ]
     },
     "execution_count": 119,
     "metadata": {},
     "output_type": "execute_result"
    }
   ],
   "source": [
    "s1_list=list(s1)\n",
    "s2_list=list(s2)\n",
    "s1_list"
   ]
  },
  {
   "cell_type": "code",
   "execution_count": 120,
   "metadata": {},
   "outputs": [],
   "source": [
    "s1_list.sort()"
   ]
  },
  {
   "cell_type": "code",
   "execution_count": 121,
   "metadata": {},
   "outputs": [
    {
     "data": {
      "text/plain": [
       "['a', 'd', 'd', 'f', 'f', 'j', 'j', 'k', 'k', 'l', 'n', 's', 's']"
      ]
     },
     "execution_count": 121,
     "metadata": {},
     "output_type": "execute_result"
    }
   ],
   "source": [
    "s1_list"
   ]
  },
  {
   "cell_type": "code",
   "execution_count": 15,
   "metadata": {},
   "outputs": [
    {
     "name": "stdout",
     "output_type": "stream",
     "text": [
      "True\n"
     ]
    }
   ],
   "source": [
    "def anagram2(st1,st2):\n",
    "    st1_list=list(st1)\n",
    "    st2_list=list(st2)\n",
    "    st1_list.sort()\n",
    "    st2_list.sort()\n",
    "    print(st1_list==st2_list)\n",
    "\n",
    "anagram2('acbde','edcba')"
   ]
  },
  {
   "cell_type": "code",
   "execution_count": null,
   "metadata": {},
   "outputs": [],
   "source": []
  }
 ],
 "metadata": {
  "kernelspec": {
   "display_name": "Python 3",
   "language": "python",
   "name": "python3"
  },
  "language_info": {
   "codemirror_mode": {
    "name": "ipython",
    "version": 3
   },
   "file_extension": ".py",
   "mimetype": "text/x-python",
   "name": "python",
   "nbconvert_exporter": "python",
   "pygments_lexer": "ipython3",
   "version": "3.6.5"
  }
 },
 "nbformat": 4,
 "nbformat_minor": 2
}
