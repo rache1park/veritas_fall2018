{
 "cells": [
  {
   "cell_type": "code",
   "execution_count": 1,
   "metadata": {},
   "outputs": [],
   "source": [
    "fileref = open(\"qbdata.txt\", \"r\")"
   ]
  },
  {
   "cell_type": "code",
   "execution_count": 2,
   "metadata": {},
   "outputs": [],
   "source": [
    "fileref.close()"
   ]
  },
  {
   "cell_type": "code",
   "execution_count": 3,
   "metadata": {},
   "outputs": [],
   "source": [
    "aline = \"This is test\""
   ]
  },
  {
   "cell_type": "code",
   "execution_count": 5,
   "metadata": {},
   "outputs": [],
   "source": [
    "values = aline.split()"
   ]
  },
  {
   "cell_type": "code",
   "execution_count": 6,
   "metadata": {},
   "outputs": [
    {
     "data": {
      "text/plain": [
       "['This', 'is', 'test']"
      ]
     },
     "execution_count": 6,
     "metadata": {},
     "output_type": "execute_result"
    }
   ],
   "source": [
    "values"
   ]
  },
  {
   "cell_type": "code",
   "execution_count": 7,
   "metadata": {},
   "outputs": [
    {
     "data": {
      "text/plain": [
       "'This'"
      ]
     },
     "execution_count": 7,
     "metadata": {},
     "output_type": "execute_result"
    }
   ],
   "source": [
    "values[0]"
   ]
  },
  {
   "cell_type": "code",
   "execution_count": 9,
   "metadata": {},
   "outputs": [
    {
     "data": {
      "text/plain": [
       "'test'"
      ]
     },
     "execution_count": 9,
     "metadata": {},
     "output_type": "execute_result"
    }
   ],
   "source": [
    "values[2]"
   ]
  },
  {
   "cell_type": "code",
   "execution_count": 10,
   "metadata": {},
   "outputs": [
    {
     "name": "stdout",
     "output_type": "stream",
     "text": [
      "QB  Colt McCoy had a rating of  74.5\n",
      "QB  Josh Freeman had a rating of  95.9\n",
      "QB  Michael Vick had a rating of  100.2\n",
      "QB  Matt Schaub had a rating of  92.0\n",
      "QB  Philip Rivers had a rating of  101.8\n",
      "QB  Matt Hasselbeck had a rating of  73.2\n",
      "QB  Jimmy Clausen had a rating of  58.4\n",
      "QB  Joe Flacco had a rating of  93.6\n",
      "QB  Kyle Orton had a rating of  87.5\n",
      "QB  Jason Campbell had a rating of  84.5\n",
      "QB  Peyton Manning had a rating of  91.9\n",
      "QB  Drew Brees had a rating of  90.9\n",
      "QB  Matt Ryan had a rating of  91.0\n",
      "QB  Matt Cassel had a rating of  93.0\n",
      "QB  Mark Sanchez had a rating of  75.3\n",
      "QB  Brett Favre had a rating of  69.9\n",
      "QB  David Garrard had a rating of  90.8\n",
      "QB  Eli Manning had a rating of  85.3\n",
      "QB  Carson Palmer had a rating of  82.4\n",
      "QB  Alex Smith had a rating of  82.1\n",
      "QB  Chad Henne had a rating of  75.4\n",
      "QB  Tony Romo had a rating of  94.9\n",
      "QB  Jay Cutler had a rating of  86.3\n",
      "QB  Jon Kitna had a rating of  88.9\n",
      "QB  Tom Brady had a rating of  111.0\n",
      "QB  Ben Roethlisberger had a rating of  97.0\n",
      "QB  Kerry Collins had a rating of  82.2\n",
      "QB  Derek Anderson had a rating of  65.9\n",
      "QB  Ryan Fitzpatrick had a rating of  81.8\n",
      "QB  Donovan McNabb had a rating of  77.1\n",
      "QB  Kevin Kolb had a rating of  76.1\n",
      "QB  Aaron Rodgers had a rating of  101.2\n",
      "QB  Sam Bradford had a rating of  76.5\n",
      "QB  Shaun Hill had a rating of  81.3\n"
     ]
    }
   ],
   "source": [
    "qbfile = open(\"qbdata.txt\", \"r\")\n",
    "\n",
    "for aline in qbfile:\n",
    "    values = aline.split()\n",
    "    print('QB ', values[0], values[1], 'had a rating of ', values[10] )\n",
    "\n",
    "qbfile.close()"
   ]
  },
  {
   "cell_type": "code",
   "execution_count": 32,
   "metadata": {},
   "outputs": [
    {
     "name": "stdout",
     "output_type": "stream",
     "text": [
      "Student  sue  had scores of  ['17', '24', '21', '2', '9', '11', '17']\n",
      "Student  grace  had scores of  ['10']\n"
     ]
    }
   ],
   "source": [
    "studentdata = open(\"studentdata.txt\",\"r\")\n",
    "for aline in studentdata:\n",
    "    values = aline.split()\n",
    "    if values[6:]!=[]:\n",
    "        print(\"Student \", values[0],\" had scores of \",values[6:])   \n",
    "studentdata.close()"
   ]
  },
  {
   "cell_type": "code",
   "execution_count": 79,
   "metadata": {},
   "outputs": [
    {
     "name": "stdout",
     "output_type": "stream",
     "text": [
      "Student  joe  had average of  23.0\n",
      "Student  bill  had average of  20.0\n",
      "Student  sue  had average of  15.666666666666666\n",
      "Student  sue  had average of  18.333333333333332\n",
      "Student  sue  had average of  16.166666666666668\n",
      "Student  grace  had average of  23.666666666666668\n",
      "Student  john  had average of  35.2\n"
     ]
    }
   ],
   "source": [
    "studentdata = open(\"studentdata.txt\",\"r\")\n",
    "for aline in studentdata:\n",
    "    values=aline.split()\n",
    "    a=0\n",
    "    count=0\n",
    "    for i in values[1:]:\n",
    "        a=int(i)+a\n",
    "        count+=1\n",
    "        if values[-1]==values[count]:\n",
    "            print(\"Student \", values[0],\" had average of \",a/count)\n",
    "studentdata.close()"
   ]
  },
  {
   "cell_type": "code",
   "execution_count": 78,
   "metadata": {},
   "outputs": [
    {
     "name": "stdout",
     "output_type": "stream",
     "text": [
      "joe avg:  23.0\n",
      "bill avg:  20.0\n",
      "sue avg:  16.166666666666668\n",
      "grace avg:  23.666666666666668\n",
      "john avg:  35.2\n"
     ]
    },
    {
     "data": {
      "text/plain": [
       "<function TextIOWrapper.close()>"
      ]
     },
     "execution_count": 78,
     "metadata": {},
     "output_type": "execute_result"
    }
   ],
   "source": [
    "f= open(\"studentdata.txt\",\"r\")\n",
    "for aline in f:\n",
    "    items=aline.split()\n",
    "    grades=items[1:]\n",
    "    grades_int=[int(x) for x in grades]\n",
    "    avg=sum(grades_int)/len(grades_int)\n",
    "    print(items[0], 'avg: ', avg)\n",
    "f.close"
   ]
  },
  {
   "cell_type": "code",
   "execution_count": 44,
   "metadata": {},
   "outputs": [
    {
     "name": "stdout",
     "output_type": "stream",
     "text": [
      "joe had a max of 40 and a min of 10\n",
      "bill had a max of 23 and a min of 16\n",
      "sue had a max of 32 and a min of 2\n",
      "grace had a max of 45 and a min of 10\n",
      "john had a max of 89 and a min of 14\n"
     ]
    },
    {
     "data": {
      "text/plain": [
       "<function TextIOWrapper.close()>"
      ]
     },
     "execution_count": 44,
     "metadata": {},
     "output_type": "execute_result"
    }
   ],
   "source": [
    "p =open(\"studentdata.txt\",\"r\")\n",
    "for aline in p:\n",
    "    items=aline.split()\n",
    "    maxi=max(int(i) for i in items[1:])\n",
    "    mini=min(int(i) for i in items[1:])\n",
    "    print(items[0],'had a max of',maxi,'and a min of', mini)\n",
    "p.close"
   ]
  },
  {
   "cell_type": "code",
   "execution_count": null,
   "metadata": {},
   "outputs": [],
   "source": []
  },
  {
   "cell_type": "code",
   "execution_count": null,
   "metadata": {},
   "outputs": [],
   "source": []
  }
 ],
 "metadata": {
  "kernelspec": {
   "display_name": "Python 3",
   "language": "python",
   "name": "python3"
  },
  "language_info": {
   "codemirror_mode": {
    "name": "ipython",
    "version": 3
   },
   "file_extension": ".py",
   "mimetype": "text/x-python",
   "name": "python",
   "nbconvert_exporter": "python",
   "pygments_lexer": "ipython3",
   "version": "3.6.5"
  }
 },
 "nbformat": 4,
 "nbformat_minor": 2
}
