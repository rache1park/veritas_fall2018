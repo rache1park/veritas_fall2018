{
 "cells": [
  {
   "cell_type": "code",
   "execution_count": 8,
   "metadata": {},
   "outputs": [
    {
     "name": "stdout",
     "output_type": "stream",
     "text": [
      "5\n"
     ]
    }
   ],
   "source": [
    "x=245\n",
    "result=''\n",
    "for i in list(str(x)):\n",
    "    result=str(x)[-1]\n",
    "print(result)"
   ]
  },
  {
   "cell_type": "code",
   "execution_count": 9,
   "metadata": {},
   "outputs": [
    {
     "name": "stdout",
     "output_type": "stream",
     "text": [
      "4\n"
     ]
    }
   ],
   "source": [
    "x=245\n",
    "result=''\n",
    "for i in list(str(x)):\n",
    "    result=str(x)[-2]\n",
    "print(result)"
   ]
  },
  {
   "cell_type": "code",
   "execution_count": 10,
   "metadata": {},
   "outputs": [
    {
     "name": "stdout",
     "output_type": "stream",
     "text": [
      "\n"
     ]
    }
   ],
   "source": [
    "x = 245.4\n",
    "result = ''\n",
    "\n",
    "\n",
    "print(result)"
   ]
  },
  {
   "cell_type": "code",
   "execution_count": 31,
   "metadata": {},
   "outputs": [
    {
     "name": "stdout",
     "output_type": "stream",
     "text": [
      "3\n"
     ]
    }
   ],
   "source": [
    "x = 245.36\n",
    "result = ''\n",
    "a=0\n",
    "string=str(x)\n",
    "for i in list(string):\n",
    "    a+=1\n",
    "    if i=='.':\n",
    "        result=str(x)[a]\n",
    "\n",
    "print(result)"
   ]
  },
  {
   "cell_type": "code",
   "execution_count": 33,
   "metadata": {},
   "outputs": [
    {
     "name": "stdout",
     "output_type": "stream",
     "text": [
      "8\n"
     ]
    }
   ],
   "source": [
    "N = 100\n",
    "M = 750\n",
    "result = ''\n",
    "if N>=0 and M>=0:\n",
    "    if M%N!=0:\n",
    "      result=round(M/N)\n",
    "    else:\n",
    "        result=M/N\n",
    "\n",
    "print(result)"
   ]
  },
  {
   "cell_type": "code",
   "execution_count": 44,
   "metadata": {},
   "outputs": [
    {
     "name": "stdout",
     "output_type": "stream",
     "text": [
      "2 30\n"
     ]
    }
   ],
   "source": [
    "N = 150\n",
    "\n",
    "hours = ''\n",
    "minutes = ''\n",
    "if N%60!=0:\n",
    "    hours=round((N/60)-0.5)\n",
    "else: \n",
    "    hours=N/60\n",
    "minutes=-(0-(N%60))\n",
    "\n",
    "print(hours, minutes)"
   ]
  },
  {
   "cell_type": "code",
   "execution_count": 121,
   "metadata": {},
   "outputs": [
    {
     "name": "stdout",
     "output_type": "stream",
     "text": [
      "10 ['0', '0']\n"
     ]
    }
   ],
   "source": [
    "A = 2\n",
    "B = 50\n",
    "N = 4\n",
    "\n",
    "dollar = ''\n",
    "cent = ''\n",
    "dollar=A*N+round(B*N/100-0.5)\n",
    "cent=list(str(B*N))[-2:]\n",
    "\n",
    "print(dollar, cent)"
   ]
  },
  {
   "cell_type": "code",
   "execution_count": 138,
   "metadata": {},
   "outputs": [
    {
     "name": "stdout",
     "output_type": "stream",
     "text": [
      "31.05\n"
     ]
    }
   ],
   "source": [
    "H = 1\n",
    "M = 2\n",
    "S = 6\n",
    "\n",
    "hours = ''\n",
    "minutes = ''\n",
    "a=0\n",
    "b=0\n",
    "c=0\n",
    "hours=H*30\n",
    "minutes=M*0.5\n",
    "minutes+=S*(1/120)\n",
    "\n",
    "print(hours+minutes)"
   ]
  },
  {
   "cell_type": "code",
   "execution_count": 146,
   "metadata": {},
   "outputs": [
    {
     "name": "stdout",
     "output_type": "stream",
     "text": [
      "120\n"
     ]
    }
   ],
   "source": [
    "N = 190\n",
    "\n",
    "result = ''\n",
    "result=(N%30)*12\n",
    "\n",
    "print(result)"
   ]
  },
  {
   "cell_type": "code",
   "execution_count": null,
   "metadata": {},
   "outputs": [],
   "source": []
  }
 ],
 "metadata": {
  "kernelspec": {
   "display_name": "Python 3",
   "language": "python",
   "name": "python3"
  },
  "language_info": {
   "codemirror_mode": {
    "name": "ipython",
    "version": 3
   },
   "file_extension": ".py",
   "mimetype": "text/x-python",
   "name": "python",
   "nbconvert_exporter": "python",
   "pygments_lexer": "ipython3",
   "version": "3.6.5"
  }
 },
 "nbformat": 4,
 "nbformat_minor": 2
}
