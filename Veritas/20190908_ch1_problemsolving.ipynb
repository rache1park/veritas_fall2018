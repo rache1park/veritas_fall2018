{
 "cells": [
  {
   "cell_type": "code",
   "execution_count": 10,
   "metadata": {},
   "outputs": [
    {
     "name": "stdout",
     "output_type": "stream",
     "text": [
      "Please enter the number: 1\n"
     ]
    }
   ],
   "source": [
    "import math\n",
    "\n",
    "anumber = int(input(\"Please enter the number: \"))\n",
    "\n",
    "#print(math.sqrt(anumber))"
   ]
  },
  {
   "cell_type": "code",
   "execution_count": 11,
   "metadata": {},
   "outputs": [
    {
     "name": "stdout",
     "output_type": "stream",
     "text": [
      "1.0\n"
     ]
    }
   ],
   "source": [
    "try:\n",
    "    print(math.sqrt(anumber))\n",
    "except:\n",
    "    print(\"Bad Value for square root\")"
   ]
  },
  {
   "cell_type": "code",
   "execution_count": 23,
   "metadata": {},
   "outputs": [
    {
     "name": "stdout",
     "output_type": "stream",
     "text": [
      "Please enter a number: -1\n",
      "Bad Value for square root\n",
      "Please enter a number: -1\n",
      "Please enter a number: 1\n",
      "1.0\n"
     ]
    }
   ],
   "source": [
    "import math\n",
    "anumber=int(input(\"Please enter a number: \"))\n",
    "try: \n",
    "    print(math.sqrt(anumber))\n",
    "except:\n",
    "    print(\"Bad Value for square root\")\n",
    "    while anumber<0:\n",
    "        anumber=int(input(\"Please enter a number: \"))\n",
    "        if anumber>=0:\n",
    "            print(math.sqrt(anumber))\n",
    "            break"
   ]
  },
  {
   "cell_type": "code",
   "execution_count": null,
   "metadata": {},
   "outputs": [],
   "source": []
  }
 ],
 "metadata": {
  "kernelspec": {
   "display_name": "Python 3",
   "language": "python",
   "name": "python3"
  },
  "language_info": {
   "codemirror_mode": {
    "name": "ipython",
    "version": 3
   },
   "file_extension": ".py",
   "mimetype": "text/x-python",
   "name": "python",
   "nbconvert_exporter": "python",
   "pygments_lexer": "ipython3",
   "version": "3.6.5"
  }
 },
 "nbformat": 4,
 "nbformat_minor": 2
}
